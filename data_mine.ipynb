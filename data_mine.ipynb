{
 "metadata": {
  "language_info": {
   "codemirror_mode": {
    "name": "ipython",
    "version": 3
   },
   "file_extension": ".py",
   "mimetype": "text/x-python",
   "name": "python",
   "nbconvert_exporter": "python",
   "pygments_lexer": "ipython3",
   "version": "3.9.5"
  },
  "orig_nbformat": 2,
  "kernelspec": {
   "name": "python395jvsc74a57bd0650a37974aa2d0738799b5aa5e705a1bbee801e8179cb7d6416dc6b0c6225776",
   "display_name": "Python 3.9.5 64-bit (windows store)"
  },
  "metadata": {
   "interpreter": {
    "hash": "650a37974aa2d0738799b5aa5e705a1bbee801e8179cb7d6416dc6b0c6225776"
   }
  }
 },
 "nbformat": 4,
 "nbformat_minor": 2,
 "cells": [
  {
   "source": [
    "## Imports and settings"
   ],
   "cell_type": "markdown",
   "metadata": {}
  },
  {
   "cell_type": "code",
   "execution_count": 1,
   "metadata": {},
   "outputs": [],
   "source": [
    "import pandas as pd\n",
    "import csv\n",
    "import plotly.express as px\n",
    "import plotly.graph_objects as go\n",
    "from src.scraper import get_range\n",
    "from datetime import date\n",
    "pd.options.display.max_colwidth = 250\n",
    "pd.options.display.max_rows = 5000"
   ]
  },
  {
   "source": [
    "## Read data"
   ],
   "cell_type": "markdown",
   "metadata": {}
  },
  {
   "cell_type": "code",
   "execution_count": 2,
   "metadata": {},
   "outputs": [],
   "source": [
    "# df = pd.read_pickle('data/reports.pkl')\n",
    "df = get_range(date(2018, 8, 1), date(2019, 6, 1))"
   ]
  },
  {
   "source": [
    "##  Filter reports by keywords"
   ],
   "cell_type": "markdown",
   "metadata": {}
  },
  {
   "cell_type": "code",
   "execution_count": 3,
   "metadata": {
    "tags": []
   },
   "outputs": [],
   "source": [
    "def keyword_search(df, keywords):\n",
    "    filtered_df = pd.DataFrame()\n",
    "    for index, row in df.iterrows():\n",
    "        for word in keywords:\n",
    "            if word in row['Incident'].lower() or word in row['Narrative'].lower():\n",
    "                filtered_df = filtered_df.append(row)\n",
    "    return filtered_df\n",
    "\n",
    "alcohol_keywords = {'alcohol', 'drinking', 'intoxicated'}\n",
    "drug_keywords = {'marijuana', 'drug', 'paraphernalia'}\n",
    "\n",
    "alcohol_df = keyword_search(serious_df, alcohol_keywords)\n",
    "drug_df = keyword_search(serious_df, drug_keywords)"
   ]
  },
  {
   "source": [
    "## Filter reports to only residence halls"
   ],
   "cell_type": "markdown",
   "metadata": {}
  },
  {
   "cell_type": "code",
   "execution_count": 4,
   "metadata": {
    "tags": []
   },
   "outputs": [],
   "source": [
    "halls = pd.read_csv('data/hall_populations.csv', sep='\\t')\n",
    "\n",
    "def get_residence_halls(df):\n",
    "    filtered_df = pd.DataFrame()\n",
    "    for index, row in df.iterrows():\n",
    "        for hall in halls['Location']:\n",
    "            if hall in row['Location'] and ' Rd' not in row['Location'] and ' Dr' not in row['Location']:\n",
    "                new_row = row.copy()\n",
    "                new_row['Location'] = hall\n",
    "                filtered_df = filtered_df.append(new_row)\n",
    "                continue\n",
    "    return filtered_df\n",
    "\n",
    "alcohol_halls = get_residence_halls(alcohol_df)\n",
    "drug_halls = get_residence_halls(drug_df)"
   ]
  },
  {
   "source": [
    "## Get stats for each residence hall"
   ],
   "cell_type": "markdown",
   "metadata": {}
  },
  {
   "cell_type": "code",
   "execution_count": 5,
   "metadata": {},
   "outputs": [],
   "source": [
    "def get_stats_by_halls(df):\n",
    "    sf = df['Location'].value_counts()\n",
    "    halls_stats = pd.DataFrame({'Location':sf.index, 'Incident sum':sf.values})\n",
    "    halls_stats.insert(2, 'Population', 0)\n",
    "    halls_stats.insert(3, 'Incidents per 100 students', 0.0)\n",
    "\n",
    "    for index, row in halls_stats.iterrows():\n",
    "        hall_population = halls.loc[halls['Location'] == row['Location']]['Population'].values[0]\n",
    "        halls_stats.at[index, 'Population'] = hall_population\n",
    "        halls_stats.at[index, 'Incidents per 100 students'] = (row['Incident sum'] / hall_population) * 100\n",
    "\n",
    "    for index, row in halls.iterrows():\n",
    "        if row['Location'] not in halls_stats['Location'].values:\n",
    "            halls_stats.loc[-1] = [row['Location'], 0, row['Population'], 0.0]\n",
    "            halls_stats.index = halls_stats.index + 1\n",
    "            halls_stats = halls_stats.sort_index()\n",
    "    return halls_stats\n",
    "\n",
    "alcohol_halls_stats = get_stats_by_halls(alcohol_halls)\n",
    "drug_halls_stats = get_stats_by_halls(drug_halls)"
   ]
  },
  {
   "source": [
    "## Draw graphs"
   ],
   "cell_type": "markdown",
   "metadata": {}
  },
  {
   "cell_type": "code",
   "execution_count": 8,
   "metadata": {},
   "outputs": [],
   "source": [
    "drug_halls_stats = drug_halls_stats.sort_values(by=['Incident sum'], ascending=False, ignore_index=True)\n",
    "fig = go.Figure(data=[\n",
    "    go.Bar(name='Drug related incidents', x=drug_halls_stats['Location'], y=drug_halls_stats['Incident sum'], marker_color='#548f6f'),\n",
    "    go.Bar(name='Alcohol related incidents', x=alcohol_halls_stats['Location'], y=alcohol_halls_stats['Incident sum'],      marker_color='#f28e1c')\n",
    "])\n",
    "fig.update_layout(\n",
    "    title={\n",
    "        'text': \"Number of Drug & Alcohol Related Incidents by Residence Hall for the 2018-19 school year\",\n",
    "        'x':0.5,\n",
    "        'xanchor': 'center',\n",
    "        'yanchor': 'top'\n",
    "        },\n",
    "    font=dict(\n",
    "        family=\"Helvetica\",\n",
    "        size=24\n",
    "    ),\n",
    "    xaxis_title='Residence Hall',\n",
    "    yaxis_title='Total incidents reported',\n",
    "    barmode='group',\n",
    "    width=1920,\n",
    "    height=1080,\n",
    "    legend=dict(\n",
    "        yanchor=\"top\",\n",
    "        y=0.96,\n",
    "        xanchor=\"left\",\n",
    "        x=0.8\n",
    "))\n",
    "fig.write_image(\"images/fig3.png\")\n",
    "\n",
    "drug_halls_stats = drug_halls_stats.sort_values(by=['Incidents per 100 students'], ascending=False, ignore_index=True)\n",
    "fig = go.Figure(data=[\n",
    "    go.Bar(name='Drug related incidents', x=drug_halls_stats['Location'], y=drug_halls_stats['Incidents per 100 students'], marker_color='#548f6f'),\n",
    "    go.Bar(name='Alcohol related incidents', x=alcohol_halls_stats['Location'], y=alcohol_halls_stats['Incidents per 100 students'],      marker_color='#f28e1c')\n",
    "])\n",
    "fig.update_layout(\n",
    "    title={\n",
    "        'text': \"Number of Drug & Alcohol Related Incidents per 100 Residents by Residence Hall for the 2018-19 school year\",\n",
    "        'x':0.5,\n",
    "        'xanchor': 'center',\n",
    "        'yanchor': 'top'\n",
    "        },\n",
    "    font=dict(\n",
    "        family=\"Helvetica\",\n",
    "        size=24\n",
    "    ),\n",
    "    xaxis_title='Residence Hall',\n",
    "    yaxis_title='Total incidents reported',\n",
    "    barmode='group',\n",
    "    width=1920,\n",
    "    height=1080,\n",
    "    legend=dict(\n",
    "        yanchor=\"top\",\n",
    "        y=0.96,\n",
    "        xanchor=\"left\",\n",
    "        x=0.8\n",
    "))\n",
    "fig.write_image(\"images/fig4.png\")"
   ]
  }
 ]
}